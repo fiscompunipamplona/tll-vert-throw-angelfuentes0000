{
 "cells": [
  {
   "cell_type": "code",
   "execution_count": 21,
   "metadata": {},
   "outputs": [],
   "source": [
    "from numpy import array,arange, ndarray, linspace\n",
    "from math import sin, cos, pi\n",
    "from scipy.integrate import odeint",
    "from pylab import plot, xlabel, ylabel, show\n",
    "\n"
   ]
  },
  {
   "cell_type": "code",
   "execution_count": 39,
   "metadata": {},
   "outputs": [
    {
     "name": "stdout",
     "output_type": "stream",
     "text": [
      "0.0\n"
     ]
    }
   ],
   "source": [
    "g=9.8   # condiciones iniciales \n",
    "target = 1e-10   # Target accuracy for binary search-porcetaje de error tolerancia\n",
    "\n",
    "def fun(ini,t):\n",
    "    y=ini[0]\n",
    "    dy =ini[1]\n",
    "    ddy = -g\n",
    "    return array([dy,ddy],float)\n",
    "\n",
    "\n",
    "n_steps = 100\n",
    "t_start = 0.\n",
    "t_final = 10.\n",
  
    "t = linspace(t_start, t_final, n_steps)\n",
    "y=0.0\n",
    "vi= 0.\n",
    "vf = 1000.0  # velocidad inicial \n",
    "\n",
    "ini1 = array([y,vi], float) # comdiciones inicuiales   \n",
    "ini2 = array([y,vf], float) # comdiciones inicuiales   \n",
    "\n",
    "a1, outodeint = odeint( fun,ini1,t, full_output=True)\n",
 
    "a2, outodeint = odeint( fun,ini2,t, full_output=True)\n",
    
     "h1=a1[n_steps-1,0]\n",
    "h2=a2[n_steps-1,0] \n",
    "print (h1)"
    "print (h2)"
    "\n"
   ]
  },
  {
   "cell_type": "code",
   "execution_count": 41,
   "metadata": {},
   "outputs": [
    {
     "ename": "TypeError",
     "evalue": "'numpy.ndarray' object is not callable",
     "output_type": "error",
     "traceback": [
      "\u001b[0;31m---------------------------------------------------------------------------\u001b[0m",
      "\u001b[0;31mTypeError\u001b[0m                                 Traceback (most recent call last)",
      "\u001b[0;32m<ipython-input-41-2082f55f3aa3>\u001b[0m in \u001b[0;36m<module>\u001b[0;34m\u001b[0m\n\u001b[0;32m----> 1\u001b[0;31m \u001b[0mh1\u001b[0m \u001b[0;34m=\u001b[0m \u001b[0ma1\u001b[0m\u001b[0;34m(\u001b[0m\u001b[0mv1\u001b[0m\u001b[0;34m)\u001b[0m \u001b[0;31m# altura lo que devueklve la ecuacion diferencial para velocidad 1 y dos\u001b[0m\u001b[0;34m\u001b[0m\u001b[0m\n\u001b[0m\u001b[1;32m      2\u001b[0m \u001b[0mh2\u001b[0m \u001b[0;34m=\u001b[0m \u001b[0ma2\u001b[0m\u001b[0;34m(\u001b[0m\u001b[0mv2\u001b[0m\u001b[0;34m)\u001b[0m \u001b[0;31m# como querremos calcular la ultima nos quedamos con esta\u001b[0m\u001b[0;34m\u001b[0m\u001b[0m\n\u001b[1;32m      3\u001b[0m \u001b[0;34m\u001b[0m\u001b[0m\n\u001b[1;32m      4\u001b[0m \u001b[0;32mwhile\u001b[0m \u001b[0mabs\u001b[0m\u001b[0;34m(\u001b[0m\u001b[0mh2\u001b[0m\u001b[0;34m-\u001b[0m\u001b[0mh1\u001b[0m\u001b[0;34m)\u001b[0m\u001b[0;34m>\u001b[0m\u001b[0mtarget\u001b[0m\u001b[0;34m:\u001b[0m\u001b[0;34m\u001b[0m\u001b[0m\n\u001b[1;32m      5\u001b[0m \u001b[0;34m\u001b[0m\u001b[0m\n",
      "\u001b[0;31mTypeError\u001b[0m: 'numpy.ndarray' object is not callable"
     ]
    }
   ],
   "source": [
    "vi = 0. # altura lo que devueklve la ecuacion diferencial para velocidad 1 y dos \n",
    "vf = 1000.0# como querremos calcular la ultima nos quedamos con esta \n",
    "\n",
    "vi = 0.",
    "vf = 1000.",
    "while abs(h2-h1)>target:\n",
    "    \n",
    "y=0.0",
    "    vp = (vi+vf)/2 # vel promedio \n",
    "init3=[y,vp]",
    "  sol=odeint(fun,init3,t)  ",
    "    if h1*hp>0:  \n",
    "        v1 = vp\n",
    "        h1 = hp\n",
    "    else:\n",
    "        \n",
    "        v2 = vp\n",
    "        h2 = hp\n",
    "\n",
    "v = (v1+v2)/2\n",
    "print(\"The required initial velocity is\",v,\"m/s\")"
   ]
  },
  {
   "cell_type": "code",
   "execution_count": null,
   "metadata": {},
   "outputs": [],
   "source": []
  }
 ],
 "metadata": {
  "kernelspec": {
   "display_name": "Python 3",
   "language": "python",
   "name": "python3"
  },
  "language_info": {
   "codemirror_mode": {
    "name": "ipython",
    "version": 3
   },
   "file_extension": ".py",
   "mimetype": "text/x-python",
   "name": "python",
   "nbconvert_exporter": "python",
   "pygments_lexer": "ipython3",
   "version": "3.5.2"
  }
 },
 "nbformat": 4,
 "nbformat_minor": 2
}
